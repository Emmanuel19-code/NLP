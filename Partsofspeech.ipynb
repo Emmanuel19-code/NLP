{
 "cells": [
  {
   "cell_type": "code",
   "execution_count": 1,
   "id": "85603435-0fb5-4f18-9ea7-c5c3d7105a2c",
   "metadata": {},
   "outputs": [],
   "source": [
    "import spacy"
   ]
  },
  {
   "cell_type": "code",
   "execution_count": 2,
   "id": "ab1e3b34-3afa-4e51-9d25-82258e20372d",
   "metadata": {},
   "outputs": [],
   "source": [
    "nlp = spacy.load(\"en_core_web_sm\")"
   ]
  },
  {
   "cell_type": "code",
   "execution_count": 3,
   "id": "1a556ef2-cdc8-4fac-8d6a-3d7e73790abe",
   "metadata": {},
   "outputs": [],
   "source": [
    "doc = nlp(\"he is the guy who sold the food to me at the restaurant\")"
   ]
  },
  {
   "cell_type": "code",
   "execution_count": 7,
   "id": "e5c9d679-3095-4545-914b-2af0cf16ebc7",
   "metadata": {},
   "outputs": [
    {
     "name": "stdout",
     "output_type": "stream",
     "text": [
      "he | PRON | pronoun\n",
      "is | AUX | auxiliary\n",
      "the | DET | determiner\n",
      "guy | NOUN | noun\n",
      "who | PRON | pronoun\n",
      "sold | VERB | verb\n",
      "the | DET | determiner\n",
      "food | NOUN | noun\n",
      "to | ADP | adposition\n",
      "me | PRON | pronoun\n",
      "at | ADP | adposition\n",
      "the | DET | determiner\n",
      "restaurant | NOUN | noun\n"
     ]
    }
   ],
   "source": [
    "for words in doc:\n",
    "    print(words,\"|\",words.pos_,\"|\",spacy.explain(words.pos_))"
   ]
  },
  {
   "cell_type": "code",
   "execution_count": 25,
   "id": "7c8c19aa-6943-4255-8f12-05547cd201fa",
   "metadata": {},
   "outputs": [],
   "source": [
    "text = '''\n",
    "has never been more urgent or more necessary. For all the uncertainty in the world, one thing is clear: People and organizations in every industry are increasingly looking to digital technology to overcome today’s challenges and emerge stronger. And no company is better positioned to help them than Microsoft.\n",
    "Every day this past fiscal year I have had the privilege to witness our customers use our platforms and tools to connect what technology can do with what the world needs\n",
    "'''"
   ]
  },
  {
   "cell_type": "code",
   "execution_count": 26,
   "id": "5db4b53f-00f7-4d1f-a117-b5d2864651b6",
   "metadata": {},
   "outputs": [],
   "source": [
    "doc = nlp(text)"
   ]
  },
  {
   "cell_type": "code",
   "execution_count": 31,
   "id": "3df0cdc6-1686-45b1-afba-201364c0cfe5",
   "metadata": {},
   "outputs": [],
   "source": [
    "filtered_tokens=[]\n",
    "for words in doc:\n",
    "    if words.pos_ not in [\"PUNCT\"]:\n",
    "       filtered_tokens.append(words)"
   ]
  },
  {
   "cell_type": "code",
   "execution_count": 33,
   "id": "24a7440b-7998-4e71-b2ea-68ddda75e657",
   "metadata": {},
   "outputs": [],
   "source": [
    "#filtered_tokens"
   ]
  },
  {
   "cell_type": "code",
   "execution_count": 37,
   "id": "4cb898eb-1ccd-4a38-967f-fb9b6f49dca6",
   "metadata": {},
   "outputs": [],
   "source": [
    "with open(\"news_story.txt\", \"r\") as f:\n",
    "    content = f.read()\n"
   ]
  },
  {
   "cell_type": "code",
   "execution_count": 38,
   "id": "670eb80f-d61c-4632-bebe-75b422329c2f",
   "metadata": {},
   "outputs": [
    {
     "data": {
      "text/plain": [
       "'Inflation rose again in April, continuing a climb that has pushed consumers to the brink and is threatening the economic expansion, the Bureau of Labor Statistics reported Wednesday.\\n\\nThe consumer price index, a broad-based measure of prices for goods and services, increased 8.3% from a year ago, higher than the Dow Jones estimate for an 8.1% gain. That represented a slight ease from Marchâ€™s peak but was still close to the highest level since the summer of 1982.\\n\\nRemoving volatile food and energy prices, so-called core CPI still rose 6.2%, against expectations for a 6% gain, clouding hopes that inflation had peaked in March.\\n\\nThe month-over-month gains also were higher than expectations â€” 0.3% on headline CPI versus the 0.2% estimate and a 0.6% increase for core, against the outlook for a 0.4% gain.\\n\\nThe price gains also meant that workers continued to lose ground. Real wages adjusted for inflation decreased 0.1% on the month despite a nominal increase of 0.3% in average hourly earnings. Over the past year, real earnings have dropped 2.6% even though average hourly earnings are up 5.5%.\\n\\nInflation has been the single biggest threat to a recovery that began early in the Covid pandemic and saw the economy in 2021 stage its biggest single-year growth level since 1984. Rising prices at the pump and in grocery stores have been one problem, but inflation has spread beyond those two areas into housing, auto sales and a host of other areas.\\n\\nFederal Reserve officials have responded to the problem with two interest rate hikes so far this year and pledges of more until inflation comes down to the central bankâ€™s 2% goal. However, Wednesdayâ€™s data shows that the Fed has a big job ahead.\\n\\nCredits: cnbc.com'"
      ]
     },
     "execution_count": 38,
     "metadata": {},
     "output_type": "execute_result"
    }
   ],
   "source": [
    "content"
   ]
  },
  {
   "cell_type": "code",
   "execution_count": 39,
   "id": "d451b0d9-f84e-45b2-ac32-7e3707b45fb6",
   "metadata": {},
   "outputs": [],
   "source": [
    "doc = nlp(content)"
   ]
  },
  {
   "cell_type": "code",
   "execution_count": 42,
   "id": "92445a04-d174-402c-b8bc-43c0ab5bb041",
   "metadata": {},
   "outputs": [],
   "source": [
    "noun_tokens = []\n",
    "for words in doc:\n",
    "    if words.pos_ in [\"NOUN\"]:\n",
    "      noun_tokens.append(words)"
   ]
  },
  {
   "cell_type": "code",
   "execution_count": 43,
   "id": "328230fa-7cb2-46ee-8c49-b1e626dc0de8",
   "metadata": {},
   "outputs": [
    {
     "data": {
      "text/plain": [
       "[Inflation,\n",
       " climb,\n",
       " consumers,\n",
       " brink,\n",
       " expansion,\n",
       " consumer,\n",
       " price,\n",
       " index,\n",
       " measure,\n",
       " prices,\n",
       " goods,\n",
       " services,\n",
       " %,\n",
       " year,\n",
       " estimate,\n",
       " %,\n",
       " gain,\n",
       " ease,\n",
       " Marchâ€,\n",
       " ™,\n",
       " peak,\n",
       " level,\n",
       " summer,\n",
       " food,\n",
       " energy,\n",
       " prices,\n",
       " core,\n",
       " %,\n",
       " expectations,\n",
       " %,\n",
       " gain,\n",
       " hopes,\n",
       " inflation,\n",
       " month,\n",
       " month,\n",
       " gains,\n",
       " expectations,\n",
       " %,\n",
       " headline,\n",
       " %,\n",
       " estimate,\n",
       " %,\n",
       " increase,\n",
       " core,\n",
       " outlook,\n",
       " %,\n",
       " gain,\n",
       " price,\n",
       " gains,\n",
       " workers,\n",
       " ground,\n",
       " wages,\n",
       " inflation,\n",
       " %,\n",
       " month,\n",
       " increase,\n",
       " %,\n",
       " earnings,\n",
       " year,\n",
       " earnings,\n",
       " %,\n",
       " earnings,\n",
       " %,\n",
       " Inflation,\n",
       " threat,\n",
       " recovery,\n",
       " pandemic,\n",
       " economy,\n",
       " stage,\n",
       " year,\n",
       " growth,\n",
       " level,\n",
       " prices,\n",
       " pump,\n",
       " grocery,\n",
       " stores,\n",
       " problem,\n",
       " inflation,\n",
       " areas,\n",
       " housing,\n",
       " auto,\n",
       " sales,\n",
       " host,\n",
       " areas,\n",
       " officials,\n",
       " problem,\n",
       " interest,\n",
       " rate,\n",
       " hikes,\n",
       " year,\n",
       " pledges,\n",
       " inflation,\n",
       " %,\n",
       " goal,\n",
       " ™,\n",
       " data,\n",
       " job,\n",
       " Credits]"
      ]
     },
     "execution_count": 43,
     "metadata": {},
     "output_type": "execute_result"
    }
   ],
   "source": [
    "noun_tokens"
   ]
  },
  {
   "cell_type": "code",
   "execution_count": 44,
   "id": "967c765e-ed5a-4813-bc9a-4197ae7d4c14",
   "metadata": {},
   "outputs": [],
   "source": [
    "num_tokens = []\n",
    "for words in doc:\n",
    "    if words.pos_ in [\"NUM\"]:\n",
    "      num_tokens.append(words)"
   ]
  },
  {
   "cell_type": "code",
   "execution_count": 45,
   "id": "78c943c8-e3c2-496a-9c0c-dc052319eeba",
   "metadata": {},
   "outputs": [
    {
     "data": {
      "text/plain": [
       "[8.3,\n",
       " 8.1,\n",
       " 1982,\n",
       " 6.2,\n",
       " 6,\n",
       " â€,\n",
       " 0.3,\n",
       " 0.2,\n",
       " 0.6,\n",
       " 0.4,\n",
       " 0.1,\n",
       " 0.3,\n",
       " 2.6,\n",
       " 5.5,\n",
       " 2021,\n",
       " 1984,\n",
       " one,\n",
       " two,\n",
       " two,\n",
       " 2]"
      ]
     },
     "execution_count": 45,
     "metadata": {},
     "output_type": "execute_result"
    }
   ],
   "source": [
    "num_tokens"
   ]
  },
  {
   "cell_type": "code",
   "execution_count": null,
   "id": "29a69190-a11d-4b1e-ae66-cd5def8bd8fa",
   "metadata": {},
   "outputs": [],
   "source": []
  }
 ],
 "metadata": {
  "kernelspec": {
   "display_name": "Python 3 (ipykernel)",
   "language": "python",
   "name": "python3"
  },
  "language_info": {
   "codemirror_mode": {
    "name": "ipython",
    "version": 3
   },
   "file_extension": ".py",
   "mimetype": "text/x-python",
   "name": "python",
   "nbconvert_exporter": "python",
   "pygments_lexer": "ipython3",
   "version": "3.10.7"
  }
 },
 "nbformat": 4,
 "nbformat_minor": 5
}
