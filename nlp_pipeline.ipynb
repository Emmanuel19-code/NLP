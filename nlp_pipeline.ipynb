{
 "cells": [
  {
   "cell_type": "code",
   "execution_count": null,
   "id": "1c63f06b-5060-4b06-8087-d3b3b72840db",
   "metadata": {},
   "outputs": [],
   "source": [
    "#NLP pipeline\n",
    "#(data acquisition\n",
    "#(discard irrelevant information\n",
    "#spell correction\n",
    "# removing extra line breaks) = data extraction\n",
    "#setence segmentaion = you split the statement into sentences\n",
    "# word tokenization = you split the sentence into separate words\n",
    "#stemming = using fixed rules to come with a base word\n",
    "#lemmatization)=Pre processing\n",
    "# feature engineering refers to extracting features from a word(TF=IDF,one hot encoder,vectorizer)\n",
    "# model building\n",
    "# hyper parameter tuning (Gridsearchv,confusion matrix) / evaluation\n",
    "#deploy\n",
    "# monitor and update"
   ]
  }
 ],
 "metadata": {
  "kernelspec": {
   "display_name": "Python 3 (ipykernel)",
   "language": "python",
   "name": "python3"
  },
  "language_info": {
   "codemirror_mode": {
    "name": "ipython",
    "version": 3
   },
   "file_extension": ".py",
   "mimetype": "text/x-python",
   "name": "python",
   "nbconvert_exporter": "python",
   "pygments_lexer": "ipython3",
   "version": "3.10.7"
  }
 },
 "nbformat": 4,
 "nbformat_minor": 5
}
