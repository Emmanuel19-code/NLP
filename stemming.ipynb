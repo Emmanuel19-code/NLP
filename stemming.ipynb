{
 "cells": [
  {
   "cell_type": "code",
   "execution_count": 1,
   "id": "8ff026f3-62a6-46a0-b81b-900dbda5fe89",
   "metadata": {},
   "outputs": [],
   "source": [
    "#stemming is using fixed rules to derive base words\n",
    "#lemmantization is using knowledge of another language to derive a base word"
   ]
  },
  {
   "cell_type": "code",
   "execution_count": 2,
   "id": "06605b83-81db-44bc-a22b-9ccbc675e0c9",
   "metadata": {},
   "outputs": [],
   "source": [
    "import nltk\n",
    "import spacy"
   ]
  },
  {
   "cell_type": "code",
   "execution_count": 3,
   "id": "80816407-85fb-4689-a902-7efda70479dd",
   "metadata": {},
   "outputs": [],
   "source": [
    "from nltk.stem import PorterStemmer\n",
    "stem = PorterStemmer()"
   ]
  },
  {
   "cell_type": "code",
   "execution_count": 6,
   "id": "028aa5e5-b5f3-4b46-82ff-29874712eed6",
   "metadata": {},
   "outputs": [],
   "source": [
    "words = [\"eating\",\"slept\",\"children\",\"feed\",\"ability\",\"meeting\",\"agreement\"]"
   ]
  },
  {
   "cell_type": "code",
   "execution_count": 7,
   "id": "a801e239-dd60-4a0f-9270-280d64f1f182",
   "metadata": {},
   "outputs": [
    {
     "name": "stdout",
     "output_type": "stream",
     "text": [
      "eating | eat\n",
      "slept | slept\n",
      "children | children\n",
      "feed | feed\n",
      "ability | abil\n",
      "meeting | meet\n",
      "agreement | agreement\n"
     ]
    }
   ],
   "source": [
    "for words in words:\n",
    "    print(words,\"|\",stem.stem(words))"
   ]
  },
  {
   "cell_type": "code",
   "execution_count": 10,
   "id": "f34b0031-c21a-47df-b086-476dde90b7a7",
   "metadata": {},
   "outputs": [],
   "source": [
    "nlp = spacy.load(\"en_core_web_sm\")"
   ]
  },
  {
   "cell_type": "code",
   "execution_count": 16,
   "id": "710fc853-d9a7-4586-a725-10a43f199330",
   "metadata": {},
   "outputs": [],
   "source": [
    "word = nlp(\"eating slept children feed ability meeting agreement hours preached\")"
   ]
  },
  {
   "cell_type": "code",
   "execution_count": 17,
   "id": "59f1ebed-ec21-49aa-825c-562b26620963",
   "metadata": {},
   "outputs": [
    {
     "name": "stdout",
     "output_type": "stream",
     "text": [
      "eating | eat\n",
      "slept | slept\n",
      "children | child\n",
      "feed | feed\n",
      "ability | ability\n",
      "meeting | meeting\n",
      "agreement | agreement\n",
      "hours | hour\n",
      "preached | preach\n"
     ]
    }
   ],
   "source": [
    "for word in word:\n",
    "    print(word, \"|\",word.lemma_)"
   ]
  },
  {
   "cell_type": "code",
   "execution_count": 19,
   "id": "62aa346d-1cda-4c62-81fd-0506fb6f97f3",
   "metadata": {},
   "outputs": [],
   "source": [
    "ar = nlp.get_pipe('attribute_ruler')"
   ]
  },
  {
   "cell_type": "code",
   "execution_count": 21,
   "id": "7267b89f-833f-4c1d-aae0-2ec6d5bf2b22",
   "metadata": {},
   "outputs": [],
   "source": [
    "ar.add([[{\"TEXT\":\"bro\"}],[{\"TEXT\":\"bruh\"}]],{\"LEMMA\":\"Brother\"})"
   ]
  },
  {
   "cell_type": "code",
   "execution_count": 22,
   "id": "a8289d4c-2523-49e9-8a4d-a77cf490d1f0",
   "metadata": {},
   "outputs": [],
   "source": [
    "doc = nlp(\"bro, you wanna go? bruh, don't say no! I'm exhuasted\")"
   ]
  },
  {
   "cell_type": "code",
   "execution_count": 23,
   "id": "66d958cb-aeb8-4de3-bffa-69e29862e5a7",
   "metadata": {},
   "outputs": [
    {
     "name": "stdout",
     "output_type": "stream",
     "text": [
      "bro | Brother\n",
      ", | ,\n",
      "you | you\n",
      "wanna | wanna\n",
      "go | go\n",
      "? | ?\n",
      "bruh | Brother\n",
      ", | ,\n",
      "do | do\n",
      "n't | not\n",
      "say | say\n",
      "no | no\n",
      "! | !\n",
      "I | I\n",
      "'m | be\n",
      "exhuasted | exhuaste\n"
     ]
    }
   ],
   "source": [
    "for words in doc:\n",
    "    print(words,\"|\",words.lemma_)"
   ]
  },
  {
   "cell_type": "code",
   "execution_count": null,
   "id": "2e8b1b7a-1457-4203-a567-581ce5f73e1e",
   "metadata": {},
   "outputs": [],
   "source": []
  }
 ],
 "metadata": {
  "kernelspec": {
   "display_name": "Python 3 (ipykernel)",
   "language": "python",
   "name": "python3"
  },
  "language_info": {
   "codemirror_mode": {
    "name": "ipython",
    "version": 3
   },
   "file_extension": ".py",
   "mimetype": "text/x-python",
   "name": "python",
   "nbconvert_exporter": "python",
   "pygments_lexer": "ipython3",
   "version": "3.10.7"
  }
 },
 "nbformat": 4,
 "nbformat_minor": 5
}
